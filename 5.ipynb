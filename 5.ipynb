{
 "cells": [
  {
   "cell_type": "code",
   "execution_count": 47,
   "id": "733e6356",
   "metadata": {},
   "outputs": [
    {
     "name": "stdout",
     "output_type": "stream",
     "text": [
      "строки совпадают 1. AAA 1. AAA\n",
      "строки совпадают 2. BBB 2. BBB\n",
      "строки совпадают 3. CCC 3. CCC\n",
      "строки совпадают 4. DDD 4. DDD\n",
      "строки не совпадают 5. EEE 5. EE\n"
     ]
    }
   ],
   "source": [
    "def open_file(filename, filename1):\n",
    "    with open(filename, 'r') as file, open(filename1, 'r') as file1:\n",
    "        for line1, line2 in zip(file, file1):\n",
    "            if line1 != line2:\n",
    "                print(f'строки не совпадают {line1.strip()} {line2.strip()}')\n",
    "            else:\n",
    "                print(f'строки совпадают {line1.strip()} {line2.strip()}')\n",
    "open_file('one.txt', 'two.txt')\n",
    "\n",
    "\n"
   ]
  },
  {
   "cell_type": "code",
   "execution_count": 170,
   "id": "1f66f614",
   "metadata": {},
   "outputs": [],
   "source": [
    "\n",
    "def open_file(filename, outputfile):\n",
    "    with open(filename, 'r') as file:\n",
    "        data = file.read()\n",
    "        kl = len(data)\n",
    "        lt = sum(1 for line in open(filename))\n",
    "        vl = sum(1 for letter in data if letter in 'aeiouyAEIOUY')\n",
    "        vw = sum(1 for letter in data if letter in 'BCDFGHJKLMNPQRSTVWXZbcdfghjklmnpqrstvwxz')\n",
    "        qn = sum(1 for letter in data if letter in '1234567890')\n",
    "    with open(outputfile, 'w', encoding='utf-8') as output:\n",
    "        output.write(f'Количество символов в файле: {kl}\\n')\n",
    "        output.write(f'Количество строк в файле: {lt}\\n')\n",
    "        output.write(f'Количество гласных букв в файле: {vl}\\n')\n",
    "        output.write(f'Количество согласных букв в файле: {vw}\\n')\n",
    "        output.write(f'Количество цифр в файле: {qn}\\n')\n",
    "\n",
    "\n",
    "open_file('one.txt', 'output.txt')"
   ]
  },
  {
   "cell_type": "code",
   "execution_count": 190,
   "id": "6bc13ca6",
   "metadata": {},
   "outputs": [
    {
     "name": "stdout",
     "output_type": "stream",
     "text": [
      "['1. AAA\\n', '2. BBB\\n', '3. CCC\\n', '4. DDD\\n']\n"
     ]
    }
   ],
   "source": [
    "def open_file(filename, outputfile):\n",
    "    with open(filename, 'r') as file:\n",
    "        a = file.readlines()\n",
    "    with open(outputfile, 'w', encoding='utf-8') as output:\n",
    "        a.pop(-1)\n",
    "        print(a)\n",
    "        output.writelines(a)\n",
    "open_file('one.txt', 'output1.txt')"
   ]
  },
  {
   "cell_type": "code",
   "execution_count": 204,
   "id": "a52f5c14",
   "metadata": {},
   "outputs": [
    {
     "name": "stdout",
     "output_type": "stream",
     "text": [
      "['1. AAA\\n', '2. BBBB\\n', '3. CCCCCC\\n', '4. DDD\\n', '5. EEEEEEEEE']\n",
      "5. EEEEEEEEE\n"
     ]
    }
   ],
   "source": [
    "def open_file(filename):\n",
    "    with open(filename, 'r') as file:\n",
    "        data =file.readlines()\n",
    "        print(data)\n",
    "        maxline = max(data)\n",
    "        print(maxline)\n",
    "open_file('one.txt')\n"
   ]
  },
  {
   "cell_type": "code",
   "execution_count": 221,
   "id": "4ebdc2f8",
   "metadata": {},
   "outputs": [
    {
     "name": "stdout",
     "output_type": "stream",
     "text": [
      "3\n"
     ]
    }
   ],
   "source": [
    "def open_file(filename):\n",
    "    b = input('Слово:')\n",
    "    with open(filename, 'r') as file:\n",
    "        data = file.read()\n",
    "        a = (1 for letter in data if letter in b)\n",
    "        print(sum(a))\n",
    "\n",
    "open_file('one.txt')"
   ]
  },
  {
   "cell_type": "code",
   "execution_count": null,
   "id": "a53cf91d",
   "metadata": {},
   "outputs": [],
   "source": [
    "def open_file(filename):\n",
    "    b = input('Слово:')\n",
    "    with open(filename, 'r') as file:\n",
    "        data = file.read()\n",
    "        a = (1 for letter in data if letter == b)\n",
    "        print(sum(a))\n",
    "\n",
    "open_file('one.txt')"
   ]
  },
  {
   "cell_type": "code",
   "execution_count": null,
   "id": "9c8a37ab",
   "metadata": {},
   "outputs": [],
   "source": [
    "def open_file(filename):\n",
    "    b = input('Слово:')\n",
    "    c = input('Заменить:')\n",
    "    with open(filename, 'r') as file:\n",
    "        data = file.read()\n",
    "        a = (1 for letter in data if letter == b)\n",
    "    with open(filename, 'w') as file:\n",
    "        file.write(data.replace(b, c))\n",
    "\n",
    "\n",
    "open_file('one.txt')"
   ]
  }
 ],
 "metadata": {
  "kernelspec": {
   "display_name": "Python 3",
   "language": "python",
   "name": "python3"
  },
  "language_info": {
   "codemirror_mode": {
    "name": "ipython",
    "version": 3
   },
   "file_extension": ".py",
   "mimetype": "text/x-python",
   "name": "python",
   "nbconvert_exporter": "python",
   "pygments_lexer": "ipython3",
   "version": "3.13.5"
  }
 },
 "nbformat": 4,
 "nbformat_minor": 5
}
