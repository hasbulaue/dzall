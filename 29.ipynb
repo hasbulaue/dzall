{
 "cells": [
  {
   "cell_type": "code",
   "execution_count": 8,
   "id": "89cdb0cc",
   "metadata": {},
   "outputs": [
    {
     "name": "stdout",
     "output_type": "stream",
     "text": [
      "(5, 6)\n"
     ]
    }
   ],
   "source": [
    "tuple1 = (1, 2, 3, 4, 5, 6)\n",
    "tuple2 = (3, 4, 5, 6, 7)\n",
    "tuple3 = (5, 6, 7, 8, 9)\n",
    "result = ()\n",
    "for i in tuple1:\n",
    "    if i in tuple2 and i in tuple3:\n",
    "        result += (i,)\n",
    "    \n",
    "print(result)\n",
    "\n",
    "\n"
   ]
  },
  {
   "cell_type": "code",
   "execution_count": 10,
   "id": "803aac52",
   "metadata": {},
   "outputs": [
    {
     "name": "stdout",
     "output_type": "stream",
     "text": [
      "(1, 2)\n"
     ]
    }
   ],
   "source": [
    "tuple1 = (1, 2, 3, 4, 5, 6)\n",
    "tuple2 = (3, 4, 5, 6, 7)\n",
    "tuple3 = (5, 6, 7, 8, 9)\n",
    "result = ()\n",
    "for i in tuple1:\n",
    "    if i not in tuple2 and i not in tuple3:\n",
    "        result += (i,)\n",
    "print(result)\n"
   ]
  },
  {
   "cell_type": "code",
   "execution_count": 27,
   "id": "f23fd139",
   "metadata": {},
   "outputs": [
    {
     "name": "stdout",
     "output_type": "stream",
     "text": [
      "(1, 2)\n"
     ]
    }
   ],
   "source": [
    "tuple1 = (1, 2, 4, 3, 5)\n",
    "tuple2 = (1, 2, 3, 4, 6)\n",
    "tuple3 = (1, 2, 3, 4, 5, 6)\n",
    "result = ()\n",
    "\n",
    "for i in range(len(tuple1)):\n",
    "    if tuple1[i] == tuple2[i] == tuple3[i]:\n",
    "        result += (tuple1[i],)\n",
    "\n",
    "print(result)\n",
    "        \n",
    "\n"
   ]
  }
 ],
 "metadata": {
  "kernelspec": {
   "display_name": "Python 3",
   "language": "python",
   "name": "python3"
  },
  "language_info": {
   "codemirror_mode": {
    "name": "ipython",
    "version": 3
   },
   "file_extension": ".py",
   "mimetype": "text/x-python",
   "name": "python",
   "nbconvert_exporter": "python",
   "pygments_lexer": "ipython3",
   "version": "3.13.5"
  }
 },
 "nbformat": 4,
 "nbformat_minor": 5
}
