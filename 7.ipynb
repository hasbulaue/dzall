{
 "cells": [
  {
   "cell_type": "code",
   "execution_count": null,
   "id": "14c76ab8",
   "metadata": {},
   "outputs": [
    {
     "name": "stdout",
     "output_type": "stream",
     "text": [
      "Make:  fffff\n",
      "Model:  fffff\n",
      "Year:  fffff\n",
      "Color:  fffff\n"
     ]
    }
   ],
   "source": [
    "class Automobile:\n",
    "    def __init__(self, make='', model='', year=0, color=''):\n",
    "        self.make = make\n",
    "        self.model = model\n",
    "        self.year = year\n",
    "        self.color = color\n",
    "\n",
    "    def input_data(self):\n",
    "        self.make = input(\"Enter make: \")\n",
    "        self.model = input(\"Enter model: \")\n",
    "        self.year = input(\"Enter year: \")\n",
    "        self.color = input(\"Enter color: \")\n",
    "    def print_data(self):\n",
    "        print(\"Make: \", self.make)\n",
    "        print(\"Model: \", self.model)\n",
    "        print(\"Year: \", self.year)\n",
    "        print(\"Color: \", self.color)\n",
    "output = Automobile()\n",
    "output.input_data()\n",
    "output.print_data()\n"
   ]
  },
  {
   "cell_type": "code",
   "execution_count": 18,
   "id": "c724c3c7",
   "metadata": {},
   "outputs": [
    {
     "name": "stdout",
     "output_type": "stream",
     "text": [
      "Make:  \n",
      "Model:  \n",
      "Year:  \n",
      "Color:  \n"
     ]
    }
   ],
   "source": [
    "class Book:\n",
    "    def __init__(self, make='', model='', year=0, color=''):\n",
    "        self.make = make\n",
    "        self.model = model\n",
    "        self.year = year\n",
    "        self.color = color\n",
    "\n",
    "    def input_data(self):\n",
    "        self.make = input(\"Enter make: \")\n",
    "        self.model = input(\"Enter model: \")\n",
    "        self.year = input(\"Enter year: \")\n",
    "        self.color = input(\"Enter color: \")\n",
    "    def print_data(self):\n",
    "        print(\"Make: \", self.make)\n",
    "        print(\"Model: \", self.model)\n",
    "        print(\"Year: \", self.year)\n",
    "        print(\"Color: \", self.color)\n",
    "output = Book()\n",
    "output.input_data()\n",
    "output.print_data()"
   ]
  },
  {
   "cell_type": "code",
   "execution_count": 19,
   "id": "62fd9476",
   "metadata": {},
   "outputs": [
    {
     "name": "stdout",
     "output_type": "stream",
     "text": [
      "Make:  dfr\n",
      "Model:  f\n",
      "Year:  f\n",
      "Color:  f\n"
     ]
    }
   ],
   "source": [
    "class Stadion:\n",
    "    def __init__(self, make='', model='', year=0, color=''):\n",
    "        self.make = make\n",
    "        self.model = model\n",
    "        self.year = year\n",
    "        self.color = color\n",
    "\n",
    "    def input_data(self):\n",
    "        self.make = input(\"Enter make: \")\n",
    "        self.model = input(\"Enter model: \")\n",
    "        self.year = input(\"Enter year: \")\n",
    "        self.color = input(\"Enter color: \")\n",
    "    def print_data(self):\n",
    "        print(\"Make: \", self.make)\n",
    "        print(\"Model: \", self.model)\n",
    "        print(\"Year: \", self.year)\n",
    "        print(\"Color: \", self.color)\n",
    "output = Stadion()\n",
    "output.input_data()\n",
    "output.print_data()"
   ]
  }
 ],
 "metadata": {
  "kernelspec": {
   "display_name": "Python 3",
   "language": "python",
   "name": "python3"
  },
  "language_info": {
   "codemirror_mode": {
    "name": "ipython",
    "version": 3
   },
   "file_extension": ".py",
   "mimetype": "text/x-python",
   "name": "python",
   "nbconvert_exporter": "python",
   "pygments_lexer": "ipython3",
   "version": "3.13.5"
  }
 },
 "nbformat": 4,
 "nbformat_minor": 5
}
