{
 "cells": [
  {
   "cell_type": "code",
   "execution_count": null,
   "id": "9714888c",
   "metadata": {},
   "outputs": [
    {
     "name": "stdout",
     "output_type": "stream",
     "text": [
      "1\n",
      "None\n",
      "2\n",
      "None\n",
      "3\n",
      "None\n"
     ]
    }
   ],
   "source": [
    "class LimitedCounter:\n",
    "    def __init__(self, limit):\n",
    "        self.limit = limit\n",
    "        self.count = 0\n",
    "    def increment(self):\n",
    "        if self.count < self.limit:\n",
    "            self.count += 1\n",
    "            print(self.count))\n",
    "    def reset(self):\n",
    "        self.count = 0\n",
    "counter = LimitedCounter(10)\n",
    "print(counter.increment()) \n",
    "print(counter.increment()) \n",
    "print(counter.increment()) "
   ]
  }
 ],
 "metadata": {
  "kernelspec": {
   "display_name": "Python 3",
   "language": "python",
   "name": "python3"
  },
  "language_info": {
   "codemirror_mode": {
    "name": "ipython",
    "version": 3
   },
   "file_extension": ".py",
   "mimetype": "text/x-python",
   "name": "python",
   "nbconvert_exporter": "python",
   "pygments_lexer": "ipython3",
   "version": "3.13.5"
  }
 },
 "nbformat": 4,
 "nbformat_minor": 5
}
