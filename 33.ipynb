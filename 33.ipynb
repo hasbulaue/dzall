{
 "cells": [
  {
   "cell_type": "code",
   "execution_count": 2,
   "id": "ae5d78b5",
   "metadata": {},
   "outputs": [
    {
     "name": "stdout",
     "output_type": "stream",
     "text": [
      "Издает звук птицы\n",
      "Летит\n",
      "Строит гнездо\n",
      "Издает звук рыбы\n",
      "Плавает\n",
      "Плавает против течения\n"
     ]
    }
   ],
   "source": [
    "class Animal:\n",
    "    def __init__(self, name, species):\n",
    "        self.species = species\n",
    "        self.name = name\n",
    "    def make_sound(self):\n",
    "        print('Издает общий звук')\n",
    "    def move(self):\n",
    "        print('Двигается')\n",
    "\n",
    "\n",
    "\n",
    "class Bird(Animal):\n",
    "    def __init__(self, name, species, wings):\n",
    "        super().__init__(name, species)\n",
    "        self.wings = wings\n",
    "\n",
    "    def make_sound(self):\n",
    "        print('Издает звук птицы')\n",
    "    def move(self):\n",
    "        print('Летит')\n",
    "    def build_nest(self):\n",
    "        print('Строит гнездо')\n",
    "class Fish(Animal):\n",
    "    def __init__(self, name, species, fins):\n",
    "        super().__init__(name, species)\n",
    "        self.fins = fins\n",
    "    def make_sound(self):\n",
    "        print('Издает звук рыбы')\n",
    "    def move(self):\n",
    "        print('Плавает')\n",
    "    def swim(self):\n",
    "        print('Плавает против течения')\n",
    "\n",
    "\n",
    "\n",
    "bird = Bird('Голубь', 'Птица', 2)\n",
    "fish = Fish('Рыба', 'Рыба', 2)\n",
    "\n",
    "bird.make_sound()\n",
    "bird.move()\n",
    "bird.build_nest()\n",
    "\n",
    "fish.make_sound()\n",
    "fish.move()\n",
    "fish.swim()"
   ]
  }
 ],
 "metadata": {
  "kernelspec": {
   "display_name": "Python 3",
   "language": "python",
   "name": "python3"
  },
  "language_info": {
   "codemirror_mode": {
    "name": "ipython",
    "version": 3
   },
   "file_extension": ".py",
   "mimetype": "text/x-python",
   "name": "python",
   "nbconvert_exporter": "python",
   "pygments_lexer": "ipython3",
   "version": "3.13.5"
  }
 },
 "nbformat": 4,
 "nbformat_minor": 5
}
