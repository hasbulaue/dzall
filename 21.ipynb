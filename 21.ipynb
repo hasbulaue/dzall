{
 "cells": [
  {
   "cell_type": "code",
   "execution_count": 29,
   "id": "4f614720",
   "metadata": {},
   "outputs": [
    {
     "name": "stdout",
     "output_type": "stream",
     "text": [
      "Amrish\n",
      "Kamsteeg\n",
      "amrish.kamsteeg@example.com\n"
     ]
    }
   ],
   "source": [
    "import requests\n",
    "api = 'https://randomuser.me/api/'\n",
    "def user():\n",
    "    response = requests.get(api)\n",
    "    data = response.json()\n",
    "    user = data['results'][0]\n",
    "    print(user['name']['first'])\n",
    "    print(user['name']['last'])\n",
    "    print(user['email'])    \n",
    "user()\n"
   ]
  },
  {
   "cell_type": "code",
   "execution_count": 36,
   "id": "a58837ee",
   "metadata": {},
   "outputs": [
    {
     "name": "stdout",
     "output_type": "stream",
     "text": [
      "Случайная собака: https://images.dog.ceo/breeds/malinois/n02105162_6449.jpg\n"
     ]
    }
   ],
   "source": [
    "import requests\n",
    "api = ' https://dog.ceo/api/breeds/image/random'\n",
    "\n",
    "def dog():\n",
    "    if requests.get(api).status_code == 200:\n",
    "        url = requests.get(api).json()['message']\n",
    "        print(f'Случайная собака: {url}')\n",
    "    else:\n",
    "        return 'Error'\n",
    "dog()"
   ]
  },
  {
   "cell_type": "code",
   "execution_count": 58,
   "id": "db0f8cd2",
   "metadata": {},
   "outputs": [
    {
     "name": "stdout",
     "output_type": "stream",
     "text": [
      "This joke is programming related\n"
     ]
    },
    {
     "data": {
      "text/plain": [
       "'A man is smoking a cigarette and blowing smoke rings into the air. His girlfriend becomes irritated with the smoke and says \"Can\\'t you see the warning on the cigarette pack? Smoking is hazardous to your health!\" to which the man replies, \"I am a programmer.  We don\\'t worry about warnings; we only worry about errors.\"'"
      ]
     },
     "execution_count": 58,
     "metadata": {},
     "output_type": "execute_result"
    }
   ],
   "source": [
    "import requests\n",
    "api =  'https://v2.jokeapi.dev/joke/Any?type=single'\n",
    "def get_joke():\n",
    "    if requests.get(api).status_code == 200:\n",
    "        joke = requests.get(api).json()['joke']\n",
    "        if 'programmer' in joke.lower():\n",
    "            print('This joke is programming related')\n",
    "            return joke\n",
    "        else: \n",
    "            return joke\n",
    "\n",
    "    else:\n",
    "        return 'Error: API is not available'\n",
    "get_joke()"
   ]
  },
  {
   "cell_type": "code",
   "execution_count": 76,
   "id": "a646185e",
   "metadata": {},
   "outputs": [
    {
     "name": "stdout",
     "output_type": "stream",
     "text": [
      "Moscow\n",
      "Russian Federation\n",
      "Russian ruble\n"
     ]
    }
   ],
   "source": [
    "import requests\n",
    "api = ' https://restcountries.com/v3.1/name/russia'\n",
    "def country():\n",
    "    response = requests.get(api)\n",
    "    data = response.json()\n",
    "    print(data[0]['capital'][0])\n",
    "    print(data[0]['name']['official'])\n",
    "    print(data[0]['currencies']['RUB']['name'])\n",
    "country()"
   ]
  },
  {
   "cell_type": "code",
   "execution_count": 77,
   "id": "4eeda478",
   "metadata": {},
   "outputs": [
    {
     "name": "stdout",
     "output_type": "stream",
     "text": [
      "403 Forbidden\n"
     ]
    }
   ],
   "source": [
    "print('403 Forbidden')"
   ]
  }
 ],
 "metadata": {
  "kernelspec": {
   "display_name": "Python 3",
   "language": "python",
   "name": "python3"
  },
  "language_info": {
   "codemirror_mode": {
    "name": "ipython",
    "version": 3
   },
   "file_extension": ".py",
   "mimetype": "text/x-python",
   "name": "python",
   "nbconvert_exporter": "python",
   "pygments_lexer": "ipython3",
   "version": "3.13.5"
  }
 },
 "nbformat": 4,
 "nbformat_minor": 5
}
