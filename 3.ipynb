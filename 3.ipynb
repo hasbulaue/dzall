{
 "cells": [
  {
   "cell_type": "code",
   "execution_count": 7,
   "id": "66bf7250",
   "metadata": {},
   "outputs": [
    {
     "name": "stdout",
     "output_type": "stream",
     "text": [
      "Name,Age,City\n",
      "John,25,New York\n",
      "Mary,30,Los Angeles\n",
      "Peter,40,Chicago\n",
      "\n"
     ]
    }
   ],
   "source": [
    "from abc import ABC, abstractmethod\n",
    "import csv\n",
    "class File(ABC):\n",
    "    def __init__(self, name):\n",
    "        self.name = name\n",
    "    @abstractmethod\n",
    "    def read(self): ...\n",
    "class Peoples(File):\n",
    "    def read(self):\n",
    "        with open(self.name, 'r') as f:\n",
    "            readfile = f.read()\n",
    "            print(readfile)\n",
    "csv = Peoples('people.csv')\n",
    "csv.read()"
   ]
  },
  {
   "cell_type": "code",
   "execution_count": 104,
   "id": "4ccdefab",
   "metadata": {},
   "outputs": [
    {
     "name": "stdout",
     "output_type": "stream",
     "text": [
      "1 15.0\n",
      "2 10.0\n",
      "3 10.0\n",
      "4 45.0\n"
     ]
    }
   ],
   "source": [
    "from abc import ABC, abstractmethod\n",
    "import csv\n",
    "\n",
    "class File(ABC):\n",
    "    def __init__(self, filename):\n",
    "        self.filename = filename\n",
    "    @abstractmethod\n",
    "    def read(self): ...\n",
    "class readCSV(File):\n",
    "    def read(self):\n",
    "        with open(self.filename, mode = 'r') as file:\n",
    "            readfile = csv.DictReader(file)\n",
    "            for row in readfile:\n",
    "                price = float(row['PRICE'])\n",
    "                quantity = float(row['QUANTITY'])\n",
    "                total = price * quantity\n",
    "                print(row['ID'], total)\n",
    "\n",
    "    \n",
    "    \n",
    "\n",
    "shop = readCSV('shop.csv')\n",
    "shop.read()\n",
    "                \n"
   ]
  }
 ],
 "metadata": {
  "kernelspec": {
   "display_name": "Python 3",
   "language": "python",
   "name": "python3"
  },
  "language_info": {
   "codemirror_mode": {
    "name": "ipython",
    "version": 3
   },
   "file_extension": ".py",
   "mimetype": "text/x-python",
   "name": "python",
   "nbconvert_exporter": "python",
   "pygments_lexer": "ipython3",
   "version": "3.13.5"
  }
 },
 "nbformat": 4,
 "nbformat_minor": 5
}
