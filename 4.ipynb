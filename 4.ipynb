{
 "cells": [
  {
   "cell_type": "code",
   "execution_count": 86,
   "id": "6f366e7b",
   "metadata": {},
   "outputs": [
    {
     "name": "stdout",
     "output_type": "stream",
     "text": [
      "первые 3 строки\n",
      "    product     category  price  quantity\n",
      "0   Ноутбук  Электроника    100         5\n",
      "1     Книга        Книги     50        10\n",
      "2  Футболка       Одежда    200         3\n",
      "товар с максимальной ценой\n",
      "    product category  price  quantity\n",
      "2  Футболка   Одежда    200         3\n",
      "продано электроники\n",
      "0    5\n",
      "Name: quantity, dtype: int64\n",
      "    product     category  price  quantity  total_price\n",
      "2  Футболка       Одежда    200         3          600\n",
      "0   Ноутбук  Электроника    100         5          500\n",
      "1     Книга        Книги     50        10          500\n",
      "3  Смартфон      Техника     70         2          140\n",
      "4     Роман        Книги     80         1           80\n"
     ]
    }
   ],
   "source": [
    "import pandas as pd\n",
    "\n",
    "data = {\n",
    "    'product': ['Ноутбук', 'Книга', 'Футболка', 'Смартфон', 'Роман'], \n",
    "    'category': ['Электроника', 'Книги', 'Одежда', 'Техника', 'Книги'], \n",
    "    'price': [100, 50, 200, 70, 80],\n",
    "    'quantity': [5, 10, 3, 2, 1]\n",
    "}\n",
    "\n",
    "\n",
    "df = pd.DataFrame(data)\n",
    "fr = df.iloc[0:3]\n",
    "print('первые 3 строки')\n",
    "print(fr)\n",
    "\n",
    "print('товар с максимальной ценой')\n",
    "print(df.loc[df['price'] == df['price'].max()])\n",
    "\n",
    "print('продано электроники')\n",
    "\n",
    "el = df.loc[df['category'] == 'Электроника']\n",
    "print(el['quantity'])\n",
    "\n",
    "sm = df['price']*df['quantity'].astype(int)\n",
    "df['total_price'] = sm\n",
    "\n",
    "print(df.sort_values(by='total_price', ascending=False))\n",
    "\n"
   ]
  }
 ],
 "metadata": {
  "kernelspec": {
   "display_name": "Python 3",
   "language": "python",
   "name": "python3"
  },
  "language_info": {
   "codemirror_mode": {
    "name": "ipython",
    "version": 3
   },
   "file_extension": ".py",
   "mimetype": "text/x-python",
   "name": "python",
   "nbconvert_exporter": "python",
   "pygments_lexer": "ipython3",
   "version": "3.13.5"
  }
 },
 "nbformat": 4,
 "nbformat_minor": 5
}
