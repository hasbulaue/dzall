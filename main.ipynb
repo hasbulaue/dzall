{
 "cells": [
  {
   "cell_type": "code",
   "execution_count": 6,
   "metadata": {},
   "outputs": [
    {
     "name": "stdout",
     "output_type": "stream",
     "text": [
      "Марка Toyota\n",
      "Модель Camry\n",
      "Год 2021\n",
      "Пробег 10000\n",
      "Driving 500 miles\n",
      "Марка Toyota\n",
      "Модель Camry\n",
      "Год 2021\n",
      "Пробег 10500\n"
     ]
    }
   ],
   "source": [
    "class Automobile:\n",
    "    def __init__(self, make, model, year, mileage):\n",
    "        self.make = make\n",
    "        self.model = model\n",
    "        self.year = year\n",
    "        self.mileage = mileage\n",
    "    def info(self):\n",
    "        print(\"Марка\", self.make)\n",
    "        print(\"Модель\", self.model)\n",
    "        print(\"Год\", self.year)\n",
    "        print(\"Пробег\", self.mileage)\n",
    "    def drive(self, miles):\n",
    "        if miles > 0:\n",
    "            self.mileage += miles\n",
    "            print(\"Driving\", miles, \"miles\")\n",
    "        else:\n",
    "            print(\"Cannot drive negative miles\")\n",
    "    \n",
    "\n",
    "car1 = Automobile(\"Toyota\", \"Camry\", 2021, 10000)\n",
    "car1.info()\n",
    "car1.drive(500)\n",
    "car1.info()\n",
    "\n",
    "\n",
    "\n"
   ]
  },
  {
   "cell_type": "code",
   "execution_count": 14,
   "metadata": {},
   "outputs": [],
   "source": [
    "class Books:\n",
    "    exem = 0\n",
    "    def __init__(self, title, author, pages):\n",
    "        self.title = title\n",
    "        self.author = author\n",
    "        self.pages = pages\n",
    "        Books.exem += 1\n",
    "\n",
    "    def info(self):\n",
    "        print(f\"Title: {self.title}\\nAuthor: {self.author}\\nPages: {self.pages}\\nInstances: {self.instances}\")\n",
    "\n",
    "    def takebook(self, quantity):\n",
    "        if quantity > 0:\n",
    "            self.exem -= quantity\n",
    "    def putbook(self, quantity):\n",
    "        if quantity > 0:\n",
    "            self.exem += quantity\n",
    "b1 = Books(\"Python\", \"John\", 200)\n",
    "b2 = Books(\"Java\", \"Jane\", 150)\n",
    "\n",
    "    \n",
    "\n"
   ]
  },
  {
   "cell_type": "code",
   "execution_count": 17,
   "metadata": {},
   "outputs": [
    {
     "ename": "",
     "evalue": "",
     "output_type": "error",
     "traceback": [
      "\u001b[1;31mThe Kernel crashed while executing code in the current cell or a previous cell. \n",
      "\u001b[1;31mPlease review the code in the cell(s) to identify a possible cause of the failure. \n",
      "\u001b[1;31mClick <a href='https://aka.ms/vscodeJupyterKernelCrash'>here</a> for more info. \n",
      "\u001b[1;31mView Jupyter <a href='command:jupyter.viewOutput'>log</a> for further details."
     ]
    }
   ],
   "source": [
    "from turtle import *\n",
    "\n",
    "\n"
   ]
  }
 ],
 "metadata": {
  "kernelspec": {
   "display_name": "Python 3",
   "language": "python",
   "name": "python3"
  },
  "language_info": {
   "codemirror_mode": {
    "name": "ipython",
    "version": 3
   },
   "file_extension": ".py",
   "mimetype": "text/x-python",
   "name": "python",
   "nbconvert_exporter": "python",
   "pygments_lexer": "ipython3",
   "version": "3.12.2"
  }
 },
 "nbformat": 4,
 "nbformat_minor": 2
}
