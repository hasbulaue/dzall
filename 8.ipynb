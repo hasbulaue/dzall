{
 "cells": [
  {
   "cell_type": "code",
   "execution_count": 4,
   "id": "bc60d924",
   "metadata": {},
   "outputs": [
    {
     "name": "stdout",
     "output_type": "stream",
     "text": [
      "Device 100 5 220\n",
      "CoffeMachine 1000 10 220 20 50\n",
      "Blender 500 5 220 100\n",
      "MeatGrinder 200 2 220 25\n"
     ]
    }
   ],
   "source": [
    "class ElectrinicDevice:\n",
    "    def __init__(self, name, power, current, voltage):\n",
    "        self.name = name\n",
    "        self.power = power\n",
    "        self.current = current\n",
    "        self.voltage = voltage\n",
    "class CoffeMachine(ElectrinicDevice):\n",
    "    def __init__(self, name, power, current, voltage, water_temperature, water_level):\n",
    "        super().__init__(name, power, current, voltage)\n",
    "        self.water_temperature = water_temperature\n",
    "        self.water_level = water_level\n",
    "class Blender(ElectrinicDevice):\n",
    "    def __init__(self, name, power, current, voltage, speed):\n",
    "        super().__init__(name, power, current, voltage)\n",
    "        self.speed = speed\n",
    "class MeatGrinder(ElectrinicDevice):\n",
    "    def __init__(self, name, power, current, voltage, temperature):\n",
    "        super().__init__(name, power, current, voltage)\n",
    "        self.temperature = temperature\n",
    "Device = ElectrinicDevice(\"Device\", 100, 5, 220)\n",
    "CoffeMachine = CoffeMachine(\"CoffeMachine\", 1000, 10, 220, 20, 50)\n",
    "Blender = Blender(\"Blender\", 500, 5, 220, 100)\n",
    "MeatGrinder = MeatGrinder(\"MeatGrinder\", 200, 2, 220, 25)\n",
    "print(Device.name, Device.power, Device.current, Device.voltage)\n",
    "print(CoffeMachine.name, CoffeMachine.power, CoffeMachine.current, CoffeMachine.voltage, CoffeMachine.water_temperature, CoffeMachine.water_level)\n",
    "print(Blender.name, Blender.power, Blender.current, Blender.voltage, Blender.speed)\n",
    "print(MeatGrinder.name, MeatGrinder.power, MeatGrinder.current, MeatGrinder.voltage, MeatGrinder.temperature)"
   ]
  }
 ],
 "metadata": {
  "kernelspec": {
   "display_name": "Python 3",
   "language": "python",
   "name": "python3"
  },
  "language_info": {
   "codemirror_mode": {
    "name": "ipython",
    "version": 3
   },
   "file_extension": ".py",
   "mimetype": "text/x-python",
   "name": "python",
   "nbconvert_exporter": "python",
   "pygments_lexer": "ipython3",
   "version": "3.13.5"
  }
 },
 "nbformat": 4,
 "nbformat_minor": 5
}
