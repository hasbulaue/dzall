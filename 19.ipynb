{
 "cells": [
  {
   "cell_type": "code",
   "execution_count": 3,
   "metadata": {},
   "outputs": [
    {
     "name": "stdout",
     "output_type": "stream",
     "text": [
      "100\n",
      "101\n",
      "100\n",
      "0\n"
     ]
    }
   ],
   "source": [
    "class Counter:\n",
    "    def __init__(self, value):\n",
    "        self.value = value\n",
    "    def increment(self):\n",
    "        self.value += 1\n",
    "    def decrement(self):\n",
    "        self.value -= 1\n",
    "    def reset(self):\n",
    "        self.value = 0\n",
    "    def get_value(self):\n",
    "        return self.value\n",
    "counter = Counter(100)\n",
    "counter.increment()\n",
    "print(counter.get_value())\n",
    "counter.decrement()\n",
    "print(counter.get_value())\n",
    "counter.reset()\n",
    "print(counter.get_value())"
   ]
  },
  {
   "cell_type": "code",
   "execution_count": 89,
   "metadata": {},
   "outputs": [
    {
     "name": "stdout",
     "output_type": "stream",
     "text": [
      "6\n",
      "6\n"
     ]
    }
   ],
   "source": [
    "import random\n",
    "class Dice:\n",
    "    def __init__(self, roll):\n",
    "        self.roll = roll\n",
    "        self.lastroll = None\n",
    "    def roll_dice(self):\n",
    "        result = random.randint(1, 6)\n",
    "        self.lastroll = result\n",
    "        return result\n",
    "        return self.lastroll\n",
    "        \n",
    "    \n",
    "    \n",
    "roll = Dice(0)\n",
    "print(roll.roll_dice())\n",
    "print(roll.lastroll)\n",
    "\n"
   ]
  },
  {
   "cell_type": "code",
   "execution_count": 91,
   "metadata": {},
   "outputs": [
    {
     "name": "stdout",
     "output_type": "stream",
     "text": [
      "30\n",
      "22\n",
      "False\n"
     ]
    }
   ],
   "source": [
    "class Square:\n",
    "    def __init__(self, width, height):\n",
    "        self.width = width\n",
    "        self.height = height\n",
    "    def area(self):\n",
    "        return self.width * self.height\n",
    "    def perimeter(self):\n",
    "        return 2 * (self.width + self.height)\n",
    "    def is_square(self):\n",
    "        return self.width == self.height\n",
    "s = Square(5, 6)\n",
    "print(s.area())\n",
    "print(s.perimeter())\n",
    "print(s.is_square())\n"
   ]
  },
  {
   "cell_type": "code",
   "execution_count": 96,
   "metadata": {},
   "outputs": [
    {
     "name": "stdout",
     "output_type": "stream",
     "text": [
      "The light bulb is on\n",
      "The light bulb is off\n"
     ]
    }
   ],
   "source": [
    "class Light_bulb:\n",
    "    def __init__(self):\n",
    "        self.is_on = False\n",
    "    def toggle(self):\n",
    "        if self.is_on == True:\n",
    "            self.is_on = False\n",
    "        else:\n",
    "            self.is_on = True\n",
    "    def status(self):\n",
    "        if self.is_on == True:\n",
    "            print(\"The light bulb is on\")\n",
    "        else:\n",
    "            print(\"The light bulb is off\")\n",
    "light1 = Light_bulb()\n",
    "light1.toggle()\n",
    "light1.status()\n",
    "light1.toggle()\n",
    "light1.status()"
   ]
  }
 ],
 "metadata": {
  "kernelspec": {
   "display_name": "Python 3",
   "language": "python",
   "name": "python3"
  },
  "language_info": {
   "codemirror_mode": {
    "name": "ipython",
    "version": 3
   },
   "file_extension": ".py",
   "mimetype": "text/x-python",
   "name": "python",
   "nbconvert_exporter": "python",
   "pygments_lexer": "ipython3",
   "version": "3.12.2"
  }
 },
 "nbformat": 4,
 "nbformat_minor": 2
}
